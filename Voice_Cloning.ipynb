{
  "nbformat": 4,
  "nbformat_minor": 0,
  "metadata": {
    "colab": {
      "provenance": [],
      "gpuType": "T4"
    },
    "kernelspec": {
      "name": "python3",
      "display_name": "Python 3"
    },
    "language_info": {
      "name": "python"
    },
    "accelerator": "GPU"
  },
  "cells": [
    {
      "cell_type": "markdown",
      "source": [
        "# Voice cloning with Coqui XTTS-V2 in Google Colab.\n",
        "\n",
        "Hello Dear, in order to use this notebook please enable GPU acceleration for best results and performance."
      ],
      "metadata": {
        "id": "cfeDi4IeSEUa"
      }
    },
    {
      "cell_type": "markdown",
      "source": [
        "## Install libraries"
      ],
      "metadata": {
        "id": "xvO9RvLMSZ94"
      }
    },
    {
      "cell_type": "code",
      "execution_count": null,
      "metadata": {
        "id": "UND2il_gkdHb"
      },
      "outputs": [],
      "source": [
        "!pip install TTS\n"
      ]
    },
    {
      "cell_type": "code",
      "source": [
        "%pip install spacy\n"
      ],
      "metadata": {
        "id": "RpmUWYTRva-P"
      },
      "execution_count": null,
      "outputs": []
    },
    {
      "cell_type": "code",
      "source": [
        "!python -m spacy download es_core_news_sm"
      ],
      "metadata": {
        "id": "gSLobeVbvccX"
      },
      "execution_count": null,
      "outputs": []
    },
    {
      "cell_type": "code",
      "source": [
        "from google.colab import drive\n",
        "\n",
        "drive.mount(\"/content/gdrive\")"
      ],
      "metadata": {
        "id": "Qt-eDOu7kwDC"
      },
      "execution_count": null,
      "outputs": []
    },
    {
      "cell_type": "code",
      "source": [
        "#"
      ],
      "metadata": {
        "id": "jnovLjnuSd3Q"
      },
      "execution_count": null,
      "outputs": []
    },
    {
      "cell_type": "markdown",
      "source": [
        "## Clone!"
      ],
      "metadata": {
        "id": "_cH0nxG2Svv5"
      }
    },
    {
      "cell_type": "code",
      "source": [
        "# @title\n",
        "import torch\n",
        "import uuid\n",
        "from TTS.api import TTS\n",
        "import numpy as np\n",
        "from scipy.io.wavfile import write, read\n",
        "import spacy\n",
        "\n",
        "def process_large_text(text, speaker_audio_path, model_name, language, output_file):\n",
        "    device = \"cuda\" if torch.cuda.is_available() else \"cpu\"\n",
        "    tts = TTS(model_name=model_name).to(device)\n",
        "    max_chars = 60\n",
        "    segments = []\n",
        "\n",
        "    # Load spaCy Language Model\n",
        "    nlp = spacy.load(\"es_core_news_sm\")\n",
        "    doc = nlp(text)\n",
        "\n",
        "    # Extract sentences\n",
        "    current_segment = \"\"\n",
        "    for sent in doc.sents:\n",
        "        if len(current_segment) + len(sent.text) <= max_chars:\n",
        "            current_segment += sent.text + \" \"\n",
        "        else:\n",
        "            if current_segment:\n",
        "                segments.append(current_segment.strip())\n",
        "            current_segment = sent.text + \" \"\n",
        "    if current_segment:\n",
        "        segments.append(current_segment.strip())\n",
        "\n",
        "    combined_samples = np.array([])\n",
        "\n",
        "    for segment in segments:\n",
        "        audio_path = \"/tmp/output_segment.wav\"\n",
        "        tts.tts_to_file(segment, speaker_wav=speaker_audio_path, language=language, file_path=audio_path)\n",
        "        sr, data = read(audio_path)\n",
        "        combined_samples = np.concatenate((combined_samples, data))\n",
        "\n",
        "        write(output_file, sr, combined_samples.astype(np.int16))\n",
        "# @markdown ### Usage\n",
        "# @markdown **text** : the target text with good grammar and spelling. <br>\n",
        "# @markdown **speaker_name**: the name of the cloned person (only for save path) <br>\n",
        "# @markdown **speaker_audio_path**: The full path to the audio that will be used for cloning.<br>\n",
        "# @markdown **output_folder**: The path which the result audio will be saved.<br>\n",
        "# @markdown **language**: the language of the speaker.<br>\n",
        "\n",
        "text = \"Hola mi amor hermoso \" # @param {\"type\":\"string\"}\n",
        "speaker_name = \"alexa\" # @param {\"type\":\"string\"}\n",
        "speaker_audio_path = \"./gdrive/MyDrive/alexa_3.mp3\" # @param {\"type\" : \"string\"}\n",
        "output_folder = \"./gdrive/MyDrive/test\" # @param {\"type\" : \"string\"}\n",
        "output_file = f\"{output_folder}/{speaker_name}_{uuid.uuid4()}.wav\"\n",
        "model_name = \"tts_models/multilingual/multi-dataset/xtts_v2\"\n",
        "language = \"es\" # @param [\"es\",\"en\",\"fr\",\"de\",\"it\",\"pt\",\"pl\",\"tr\",\"ru\",\"nl\",\"cs\",\"ar\",\"zh-cn\",\"ja\",\"hu\",\"ko\",\"hi\"]\n",
        "\n",
        "\n",
        "process_large_text(text, speaker_audio_path, model_name, language, output_file)\n"
      ],
      "metadata": {
        "colab": {
          "base_uri": "https://localhost:8080/"
        },
        "id": "5MisnOWkrA82",
        "outputId": "baf75ff7-0046-48a7-f45e-4a9f125797ee",
        "cellView": "form"
      },
      "execution_count": 13,
      "outputs": [
        {
          "output_type": "stream",
          "name": "stdout",
          "text": [
            " > tts_models/multilingual/multi-dataset/xtts_v2 is already downloaded.\n",
            " > Using model: xtts\n"
          ]
        },
        {
          "output_type": "stream",
          "name": "stderr",
          "text": [
            "/usr/local/lib/python3.10/dist-packages/TTS/tts/layers/xtts/xtts_manager.py:5: FutureWarning: You are using `torch.load` with `weights_only=False` (the current default value), which uses the default pickle module implicitly. It is possible to construct malicious pickle data which will execute arbitrary code during unpickling (See https://github.com/pytorch/pytorch/blob/main/SECURITY.md#untrusted-models for more details). In a future release, the default value for `weights_only` will be flipped to `True`. This limits the functions that could be executed during unpickling. Arbitrary objects will no longer be allowed to be loaded via this mode unless they are explicitly allowlisted by the user via `torch.serialization.add_safe_globals`. We recommend you start setting `weights_only=True` for any use case where you don't have full control of the loaded file. Please open an issue on GitHub for any issues related to this experimental feature.\n",
            "  self.speakers = torch.load(speaker_file_path)\n",
            "/usr/local/lib/python3.10/dist-packages/TTS/utils/io.py:54: FutureWarning: You are using `torch.load` with `weights_only=False` (the current default value), which uses the default pickle module implicitly. It is possible to construct malicious pickle data which will execute arbitrary code during unpickling (See https://github.com/pytorch/pytorch/blob/main/SECURITY.md#untrusted-models for more details). In a future release, the default value for `weights_only` will be flipped to `True`. This limits the functions that could be executed during unpickling. Arbitrary objects will no longer be allowed to be loaded via this mode unless they are explicitly allowlisted by the user via `torch.serialization.add_safe_globals`. We recommend you start setting `weights_only=True` for any use case where you don't have full control of the loaded file. Please open an issue on GitHub for any issues related to this experimental feature.\n",
            "  return torch.load(f, map_location=map_location, **kwargs)\n",
            "/usr/local/lib/python3.10/dist-packages/spacy/util.py:1740: UserWarning: [W111] Jupyter notebook detected: if using `prefer_gpu()` or `require_gpu()`, include it in the same cell right before `spacy.load()` to ensure that the model is loaded on the correct device. More information: http://spacy.io/usage/v3#jupyter-notebook-gpu\n",
            "  warnings.warn(Warnings.W111)\n"
          ]
        },
        {
          "output_type": "stream",
          "name": "stdout",
          "text": [
            " > Text splitted to sentences.\n",
            "['Hola mi amor hermoso']\n",
            " > Processing time: 0.8842065334320068\n",
            " > Real-time factor: 0.45047953008724007\n"
          ]
        }
      ]
    }
  ]
}